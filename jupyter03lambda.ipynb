{
 "cells": [
  {
   "cell_type": "markdown",
   "id": "6ae90900",
   "metadata": {},
   "source": [
    "Declaramos una lista simple de números"
   ]
  },
  {
   "cell_type": "code",
   "execution_count": 1,
   "id": "97c6c03a",
   "metadata": {},
   "outputs": [
    {
     "data": {
      "text/plain": [
       "[2, 3, 4, 5, 6]"
      ]
     },
     "execution_count": 1,
     "metadata": {},
     "output_type": "execute_result"
    }
   ],
   "source": [
    "listaNumeros = [2, 3, 4, 5, 6]\n",
    "listaNumeros"
   ]
  },
  {
   "cell_type": "markdown",
   "id": "7ad73ece",
   "metadata": {},
   "source": [
    "Lambda tiene varias opciones.  Una de ellas es map que permite recorrer uno a uno cada elemento de nuestro conjunto y aplicar algo.\n",
    "Por ejemplo, vamos a recorrer cada elemento y lo que haremos será multiplicarlo por 2"
   ]
  },
  {
   "cell_type": "code",
   "execution_count": 2,
   "id": "72c71786",
   "metadata": {},
   "outputs": [
    {
     "data": {
      "text/plain": [
       "[4, 6, 8, 10, 12]"
      ]
     },
     "execution_count": 2,
     "metadata": {},
     "output_type": "execute_result"
    }
   ],
   "source": [
    "nuevaLista = list(map(lambda x: x * 2, listaNumeros))\n",
    "nuevaLista"
   ]
  },
  {
   "cell_type": "markdown",
   "id": "45b33701",
   "metadata": {},
   "source": [
    "Otra funcionalidad es utilizar FILTER que nos permite filtrar por los datos que necesitemos de un conjunto.\n",
    "Vamos a filtrar los números positivos de la lista"
   ]
  },
  {
   "cell_type": "code",
   "execution_count": 3,
   "id": "2dbd5ba1",
   "metadata": {},
   "outputs": [
    {
     "data": {
      "text/plain": [
       "[2, 3, 11, 99, 14]"
      ]
     },
     "execution_count": 3,
     "metadata": {},
     "output_type": "execute_result"
    }
   ],
   "source": [
    "lista = [2, 3, -5, -6, 11, -99, 99, 14]\n",
    "listaPositivos = list(filter(lambda x: x > 0, lista))\n",
    "listaPositivos"
   ]
  },
  {
   "cell_type": "markdown",
   "id": "629f2f5d",
   "metadata": {},
   "source": [
    "Lo bueno de Lambda es que tambien puede trabajar sobre objetos conjuntos complejos.\n",
    "Por ejemplo, voy a utilizar una lista que contenga en su interior un diccionario de Jugadores.\n",
    "Podremos filtrar los jugadores sin problema."
   ]
  },
  {
   "cell_type": "code",
   "execution_count": 5,
   "id": "b73152b6",
   "metadata": {},
   "outputs": [],
   "source": [
    "jugadores = \t[\n",
    "\t\t\t\t{\n",
    "\t\t\t\t\t\"numero\": 1,\n",
    "\t\t\t\t\t\"nombre\": \"Iker Casillas\",\n",
    "\t\t\t\t\t\"posicion\": \"Portero\",\n",
    "\t\t\t\t\t\"edad\": 28\n",
    "\t\t\t\t\t, \"imagen\": \"https://as01.epimg.net/us/imagenes/2019/10/13/futbol/1571000082_277473_1571000359_noticia_normal_recorte1.jpg\"\n",
    "\t\t\t\t},\n",
    "\t\t\t\t{\n",
    "\t\t\t\t\t\"numero\": 4,\n",
    "\t\t\t\t\t\"nombre\": \"Sergio Ramos\",\n",
    "\t\t\t\t\t\"posicion\": \"Defensa central\",\n",
    "\t\t\t\t\t\"edad\": 29\n",
    "\t\t\t\t\t, \"imagen\": \"https://as.com/tikitakas/imagenes/2019/02/23/portada/1550919555_521513_1550919850_noticia_normal.jpg\"\n",
    "\t\t\t\t},\n",
    "\t\t\t\t{\n",
    "\t\t\t\t\t\"numero\": 44,\n",
    "\t\t\t\t\t\"nombre\": \"Gravesen\",\n",
    "\t\t\t\t\t\"posicion\": \"La Gravesinha\",\n",
    "\t\t\t\t\t\"edad\": 29\n",
    "\t\t\t\t\t, \"imagen\": \"https://media.vandalsports.com/i/640x360/9-2017/2017922121441_1.jpg\"\n",
    "\t\t\t\t},\t\t\t\t\n",
    "\t\t\t\t{\n",
    "\t\t\t\t\t\"numero\": 12,\n",
    "\t\t\t\t\t\"nombre\": \"Marcelo\",\n",
    "\t\t\t\t\t\"posicion\": \"Lateral Izquierdo\",\n",
    "\t\t\t\t\t\"edad\": 27\n",
    "\t\t\t\t\t, \"imagen\": \"https://okdiario.com/img/2018/12/20/marcelo-navidad-interior-655x368.jpg\"\n",
    "\t\t\t\t},\n",
    "\t\t\t\t{\n",
    "\t\t\t\t\t\"numero\": 6,\n",
    "\t\t\t\t\t\"nombre\": \"Royston Drenthe\",\n",
    "\t\t\t\t\t\"posicion\": \"Lateral Izquierdo\",\n",
    "\t\t\t\t\t\"edad\": 27\n",
    "\t\t\t\t\t, \"imagen\": \"https://media.vandalsports.com/m/9-2017/201792212836_2.jpg\"\n",
    "\t\t\t\t},\n",
    "\t\t\t\t{\n",
    "\t\t\t\t\t\"numero\": 18,\n",
    "\t\t\t\t\t\"nombre\": \"Secretario\",\n",
    "\t\t\t\t\t\"posicion\": \"Lateral derecho\",\n",
    "\t\t\t\t\t\"edad\": 27\n",
    "\t\t\t\t\t,\"imagen\": \"https://media.vandalsports.com/m/9-2017/2017922121033_5.jpg\"\n",
    "\t\t\t\t},\n",
    "\t\t\t\t\t\t\t\t{\n",
    "\t\t\t\t\t\"numero\": 6,\n",
    "\t\t\t\t\t\"nombre\": \"Hamit Altintop\",\n",
    "\t\t\t\t\t\"posicion\": \"Ni su entrenador la sabe...\",\n",
    "\t\t\t\t\t\"edad\": 27,\n",
    "\t\t\t\t\t\"imagen\": \"https://media.vandalsports.com/m/9-2017/2017922121258_5.jpg\"\n",
    "\t\t\t\t},\t\n",
    "\t\t\t\t{\n",
    "\t\t\t\t\t\"numero\": 16,\n",
    "\t\t\t\t\t\"nombre\": \"Pablo García\",\n",
    "\t\t\t\t\t\"posicion\": \"Medio asesino\",\n",
    "\t\t\t\t\t\"edad\": 27\n",
    "\t\t\t\t\t, \"imagen\": \"https://as.com/futbol/imagenes/2005/09/07/mas_futbol/1126044005_740215_0000000001_noticia_grande.jpg\"\n",
    "\t\t\t\t},\n",
    "\t\t\t\t{\n",
    "\t\t\t\t\t\"numero\": 15,\n",
    "\t\t\t\t\t\"nombre\": \"Carvajal\",\n",
    "\t\t\t\t\t\"posicion\": \"Lateral Derecho\",\n",
    "\t\t\t\t\t\"edad\": 23,\n",
    "\t\t\t\t\t\"imagen\": \"https://www.realmadrid.com/img/vertical_380px/carvajal_380x501_20190923060815.jpg\"\n",
    "\t\t\t\t},\n",
    "\t\t\t\t{\n",
    "\t\t\t\t\t\"numero\": 2,\n",
    "\t\t\t\t\t\"nombre\": \"Varane\",\n",
    "\t\t\t\t\t\"posicion\": \"Defensa central\",\n",
    "\t\t\t\t\t\"edad\": 22\n",
    "\t\t\t\t\t, \"imagen\": \"https://e00-marca.uecdn.es/assets/multimedia/imagenes/2018/11/06/15415134518299.jpg\"\n",
    "\t\t\t\t},\n",
    "\t\t\t\t{\n",
    "\t\t\t\t\t\"numero\": 8,\n",
    "\t\t\t\t\t\"nombre\": \"Kross\",\n",
    "\t\t\t\t\t\"posicion\": \"Medio Centro\",\n",
    "\t\t\t\t\t\"edad\": 25, \n",
    "\t\t\t\t\t\"imagen\": \"https://static2.abc.es/media/deportes/2019/08/05/kroos-kIH--620x349@abc.jpg\"\n",
    "\t\t\t\t},\n",
    "\t\t\t\t{\n",
    "\t\t\t\t\t\"numero\": 19,\n",
    "\t\t\t\t\t\"nombre\": \"Modric\",\n",
    "\t\t\t\t\t\"posicion\": \"Volante Derecho\",\n",
    "\t\t\t\t\t\"edad\": 30,\n",
    "\t\t\t\t\t\"imagen\": \"https://www.realmadrid.com/img/horizontal_940px/modric_1vc6946_20191015082102.jpg\"\n",
    "\t\t\t\t},\n",
    "\t\t\t\t{\n",
    "\t\t\t\t\t\"numero\": 10,\n",
    "\t\t\t\t\t\"nombre\": \"James\",\n",
    "\t\t\t\t\t\"posicion\": \"Volante Izquierdo\",\n",
    "\t\t\t\t\t\"edad\": 24, \n",
    "\t\t\t\t\t\"imagen\": \"https://www.futbolred.com/files/article_main/uploads/2019/09/14/5d7cf2352d47d.jpeg\"\n",
    "\t\t\t\t},\n",
    "\t\t\t\t{\n",
    "\t\t\t\t\t\"numero\": 22,\n",
    "\t\t\t\t\t\"nombre\": \"Isco\",\n",
    "\t\t\t\t\t\"posicion\": \"Centrocampista\",\n",
    "\t\t\t\t\t\"edad\": 23, \n",
    "\t\t\t\t\t\"imagen\": \"https://diariomadridista.okdiario.com/img/2019/10/17/tottenham-cesion-isco-interior-1-655x368.jpg\"\n",
    "\t\t\t\t},\n",
    "\t\t\t\t{\n",
    "\t\t\t\t\t\"numero\": 11,\n",
    "\t\t\t\t\t\"nombre\": \"Bale\",\n",
    "\t\t\t\t\t\"posicion\": \"Extremo Golfista\",\n",
    "\t\t\t\t\t\"edad\": 28,\n",
    "\t\t\t\t\t\"imagen\": \"https://as.com/futbol/imagenes/2017/11/09/internacional/1510212018_708014_1510212294_noticia_normal.jpg\"\n",
    "\t\t\t\t},\n",
    "\t\t\t\t{\n",
    "\t\t\t\t\t\"numero\": 9,\n",
    "\t\t\t\t\t\"nombre\": \"Benzema\",\n",
    "\t\t\t\t\t\"posicion\": \"Delantero Centro\",\n",
    "\t\t\t\t\t\"edad\": 27,\n",
    "\t\t\t\t\t\"imagen\": \"https://as.com/futbol/imagenes/2017/11/09/internacional/1510212018_708014_1510212294_noticia_normal.jpg\"\n",
    "\t\t\t\t},\n",
    "\t\t\t\t{\n",
    "\t\t\t\t\t\"numero\": 7,\n",
    "\t\t\t\t\t\"nombre\": \"Ronaldo\",\n",
    "\t\t\t\t\t\"posicion\": \"Extremo Izquierdo\",\n",
    "\t\t\t\t\t\"edad\": 30, \n",
    "\t\t\t\t\t\"imagen\": \"https://en.as.com/argentina/imagenes/2019/06/01/futbol/1559347538_227480_1559347586_noticia_normal.jpg\"\n",
    "\t\t\t\t},\n",
    "\t\t\t\t{\n",
    "\t\t\t\t\t\"numero\": 1,\n",
    "\t\t\t\t\t\"nombre\": \"Ter Stegen\",\n",
    "\t\t\t\t\t\"posicion\": \"Portero\",\n",
    "\t\t\t\t\t\"edad\": 28, \n",
    "\t\t\t\t\t\"imagen\": \"https://www.aupaathletic.com/comun/jugadores_fotos/foto_jugador-106.jpg\"\n",
    "\t\t\t\t},\n",
    "\t\t\t\t{\n",
    "\t\t\t\t\t\"numero\": 3,\n",
    "\t\t\t\t\t\"nombre\": \"Gerardo Piqué Bernabeu\",\n",
    "\t\t\t\t\t\"posicion\": \"Defensa central\",\n",
    "\t\t\t\t\t\"edad\": 28\n",
    "\t\t\t\t},\n",
    "\t\t\t\t{\n",
    "\t\t\t\t\t\"numero\": 2,\n",
    "\t\t\t\t\t\"nombre\": \"Mathieu\",\n",
    "\t\t\t\t\t\"posicion\": \"Lateral Izquierdo\",\n",
    "\t\t\t\t\t\"edad\": 23, \n",
    "\t\t\t\t\t\"imagen\": \"https://upload.wikimedia.org/wikipedia/commons/thumb/3/31/J%C3%A9r%C3%A9my_Mathieu_18102014_%28cropped%29.jpg/250px-J%C3%A9r%C3%A9my_Mathieu_18102014_%28cropped%29.jpg\"\n",
    "\t\t\t\t},\n",
    "\t\t\t\t{\n",
    "\t\t\t\t\t\"numero\": 6,\n",
    "\t\t\t\t\t\"nombre\": \"Amunike\",\n",
    "\t\t\t\t\t\"posicion\": \"Lateral Derecho\",\n",
    "\t\t\t\t\t\"edad\": 31, \n",
    "\t\t\t\t\t\"imagen\": \"https://cope-cdnmed.agilecontent.com/resources/jpg/0/9/1531395122790.jpg\"\n",
    "\t\t\t\t},\n",
    "\t\t\t\t{\n",
    "\t\t\t\t\t\"numero\": 15,\n",
    "\t\t\t\t\t\"nombre\": \"Rochemback\",\n",
    "\t\t\t\t\t\"posicion\": \"Mediocentro\",\n",
    "\t\t\t\t\t\"edad\": 22,\n",
    "\t\t\t\t\t\"imagen\": \"https://as01.epimg.net/futbol/imagenes/2017/09/27/primera/1506501533_123725_1506501608_sumario_normal.jpg\"\n",
    "\t\t\t\t},\n",
    "\t\t\t\t{\n",
    "\t\t\t\t\t\"numero\": 5,\n",
    "\t\t\t\t\t\"nombre\": \"Chygrynskiy\",\n",
    "\t\t\t\t\t\"posicion\": \"Defensa central\",\n",
    "\t\t\t\t\t\"edad\": 30, \n",
    "\t\t\t\t\t\"imagen\": \"https://as.com/futbol/imagenes/2017/06/27/mas_futbol/1498578431_883779_1498578525_noticia_normal.jpg\"\n",
    "\t\t\t\t},\t\t\t\t\n",
    "\t\t\t\t{\n",
    "\t\t\t\t\t\"numero\": 8,\n",
    "\t\t\t\t\t\"nombre\": \"Iniesta\",\n",
    "\t\t\t\t\t\"posicion\": \"Volante Derecho\",\n",
    "\t\t\t\t\t\"edad\": 30, \n",
    "\t\t\t\t\t\"imagen\": \"https://as.com/futbol/imagenes/2017/06/27/mas_futbol/1498578431_883779_1498578525_noticia_normal.jpg\"\n",
    "\t\t\t\t},\n",
    "\t\t\t\t{\n",
    "\t\t\t\t\t\"numero\": 11,\n",
    "\t\t\t\t\t\"nombre\": \"Neymar\",\n",
    "\t\t\t\t\t\"posicion\": \"Volante Izquierdo\",\n",
    "\t\t\t\t\t\"edad\": 24, \n",
    "\t\t\t\t\t\"imagen\": \"https://as.com/futbol/imagenes/2017/06/27/mas_futbol/1498578431_883779_1498578525_noticia_normal.jpg\"\n",
    "\t\t\t\t},\n",
    "\t\t\t\t{\n",
    "\t\t\t\t\t\"numero\": 10,\n",
    "\t\t\t\t\t\"nombre\": \"Messi\",\n",
    "\t\t\t\t\t\"posicion\": \"Delantero total\",\n",
    "\t\t\t\t\t\"edad\": 28,\n",
    "\t\t\t\t\t\"imagen\": \"https://i.ytimg.com/vi/m6pKCg-Tx-g/maxresdefault.jpg\"\n",
    "\t\t\t\t},\n",
    "\t\t\t\t{\n",
    "\t\t\t\t\t\"numero\": 17,\n",
    "\t\t\t\t\t\"nombre\": \"Bogarde\",\n",
    "\t\t\t\t\t\"posicion\": \"Extremo Derecho\",\n",
    "\t\t\t\t\t\"edad\": 26, \n",
    "\t\t\t\t\t\"imagen\": \"https://as.com/futbol/imagenes/2017/06/27/mas_futbol/1498578431_883779_1498578525_noticia_normal.jpg\"\n",
    "\t\t\t\t},\n",
    "\t\t\t\t{\n",
    "\t\t\t\t\t\"numero\": 9,\n",
    "\t\t\t\t\t\"nombre\": \"Luis Suarez\",\n",
    "\t\t\t\t\t\"posicion\": \"Delantero Centro\",\n",
    "\t\t\t\t\t\"edad\": 30, \n",
    "\t\t\t\t\t\"imagen\": \"https://as.com/futbol/imagenes/2017/06/27/mas_futbol/1498578431_883779_1498578525_noticia_normal.jpg\"\n",
    "\t\t\t\t},\n",
    "\t\t\t\t{\n",
    "\t\t\t\t\t\"numero\": 7,\n",
    "\t\t\t\t\t\"nombre\": \"Griezmann\",\n",
    "\t\t\t\t\t\"posicion\": \"Extremo Izquierdo\",\n",
    "\t\t\t\t\t\"edad\": 28, \n",
    "\t\t\t\t\t\"imagen\": \"https://as.com/futbol/imagenes/2017/06/27/mas_futbol/1498578431_883779_1498578525_noticia_normal.jpg\"\n",
    "\t\t\t\t}\t\t\t\t\n",
    "\t]"
   ]
  },
  {
   "cell_type": "markdown",
   "id": "40fc8afa",
   "metadata": {},
   "source": [
    "Filtramos los jugadores por Edad"
   ]
  },
  {
   "cell_type": "code",
   "execution_count": 7,
   "id": "e6f252ac",
   "metadata": {},
   "outputs": [
    {
     "data": {
      "text/plain": [
       "[{'numero': 6,\n",
       "  'nombre': 'Amunike',\n",
       "  'posicion': 'Lateral Derecho',\n",
       "  'edad': 31,\n",
       "  'imagen': 'https://cope-cdnmed.agilecontent.com/resources/jpg/0/9/1531395122790.jpg'}]"
      ]
     },
     "execution_count": 7,
     "metadata": {},
     "output_type": "execute_result"
    }
   ],
   "source": [
    "jugadoresEdad = list(filter(lambda x: x[\"edad\"] > 30, jugadores))\n",
    "jugadoresEdad"
   ]
  },
  {
   "cell_type": "markdown",
   "id": "8752764a",
   "metadata": {},
   "source": [
    "Nos permite hacer de todo, filtrar por posición"
   ]
  },
  {
   "cell_type": "code",
   "execution_count": 8,
   "id": "f4f1a10b",
   "metadata": {},
   "outputs": [
    {
     "data": {
      "text/plain": [
       "[{'numero': 1,\n",
       "  'nombre': 'Iker Casillas',\n",
       "  'posicion': 'Portero',\n",
       "  'edad': 28,\n",
       "  'imagen': 'https://as01.epimg.net/us/imagenes/2019/10/13/futbol/1571000082_277473_1571000359_noticia_normal_recorte1.jpg'},\n",
       " {'numero': 1,\n",
       "  'nombre': 'Ter Stegen',\n",
       "  'posicion': 'Portero',\n",
       "  'edad': 28,\n",
       "  'imagen': 'https://www.aupaathletic.com/comun/jugadores_fotos/foto_jugador-106.jpg'}]"
      ]
     },
     "execution_count": 8,
     "metadata": {},
     "output_type": "execute_result"
    }
   ],
   "source": [
    "jugadoresPosicion = list(filter(lambda x: x[\"posicion\"] == \"Portero\", jugadores))\n",
    "jugadoresPosicion"
   ]
  }
 ],
 "metadata": {
  "kernelspec": {
   "display_name": ".venv",
   "language": "python",
   "name": "python3"
  },
  "language_info": {
   "codemirror_mode": {
    "name": "ipython",
    "version": 3
   },
   "file_extension": ".py",
   "mimetype": "text/x-python",
   "name": "python",
   "nbconvert_exporter": "python",
   "pygments_lexer": "ipython3",
   "version": "3.13.3"
  }
 },
 "nbformat": 4,
 "nbformat_minor": 5
}
